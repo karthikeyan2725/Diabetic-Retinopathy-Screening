{
 "cells": [
  {
   "cell_type": "code",
   "execution_count": 1,
   "id": "ef81d8c9-e07b-463e-94e3-aee8b802db08",
   "metadata": {},
   "outputs": [],
   "source": [
    "import albumentations as A\n",
    "from pathlib import Path\n",
    "import pandas as pd\n",
    "import cv2\n",
    "from tqdm import tqdm\n",
    "import random\n",
    "import json\n",
    "import matplotlib.pyplot as plt"
   ]
  },
  {
   "cell_type": "markdown",
   "id": "faa94d5e-1cc8-4180-8c13-b937aacfa6f0",
   "metadata": {},
   "source": [
    "### Aptos-2019 Blindness Detection Dataset \n",
    "* The main files are\n",
    "    * train.csv \n",
    "        * id_code : The name of the image without extension\n",
    "        * diagnosis : Integer from 0 to 4\n",
    "    * train_images : directory containing the images\n",
    "* The test files are not useful as they do not have labels\n",
    "* All the images are of png format"
   ]
  },
  {
   "cell_type": "code",
   "execution_count": 2,
   "id": "959a71f3-8329-470e-9e68-da2ba3ca6350",
   "metadata": {},
   "outputs": [
    {
     "name": "stdout",
     "output_type": "stream",
     "text": [
      "Stage 0 : 1805 images\n",
      "Stage 1 : 370 images\n",
      "Stage 2 : 999 images\n",
      "Stage 3 : 193 images\n",
      "Stage 4 : 295 images\n"
     ]
    },
    {
     "data": {
      "image/png": "[encoded data removed]",
      "text/plain": [
       "<Figure size 640x480 with 1 Axes>"
      ]
     },
     "metadata": {},
     "output_type": "display_data"
    }
   ],
   "source": [
    "# Setting Up Paths\n",
    "with open(\"../config.json\") as file:\n",
    "    config = json.load(file)\n",
    "    aptos2019_path = Path(config[\"dataset\"][\"aptos_2019\"][\"original\"])\n",
    "    aptos2019_balanced_resized_path = Path(config[\"dataset\"][\"aptos_2019\"][\"balanced_resized\"])\n",
    "\n",
    "aptos_train_csv = pd.read_csv(aptos2019_path / \"train.csv\")\n",
    "aptos_train_images = aptos2019_path / \"train_images\"\n",
    "\n",
    "# Class distribution in the dataset\n",
    "class_distribution = dict()\n",
    "for image_class in range(0,5):\n",
    "    class_distribution[image_class] = len(aptos_train_csv[aptos_train_csv[\"diagnosis\"] == image_class])\n",
    "    print(f\"Stage {image_class} : {class_distribution[image_class]} images\")\n",
    "\n",
    "# Visualizing Distribution\n",
    "plt.bar(\n",
    "    x = [x for x in class_distribution],\n",
    "    height = [class_distribution[x] for x in class_distribution]\n",
    ")\n",
    "plt.xlabel(\"Classes\")\n",
    "plt.ylabel(\"Frequency\")\n",
    "plt.show() "
   ]
  },
  {
   "cell_type": "markdown",
   "id": "9247bd1c-9cde-4de4-8ef9-bf4e56173fa6",
   "metadata": {},
   "source": [
    "#### Common Function"
   ]
  },
  {
   "cell_type": "code",
   "execution_count": 5,
   "id": "073534b2-4986-4e76-a120-015217e0432f",
   "metadata": {},
   "outputs": [],
   "source": [
    "# Common Function to preprocess the Aptos2019 Dataset\n",
    "def preprocess_dataset(new_path, preprocess_fn):\n",
    "    new_image_path = new_path / \"images\"\n",
    "    new_image_path.mkdir(parents = True)\n",
    "    new_csv_path = new_path / \"labels.csv\"\n",
    "    csv_data_list = []\n",
    "    \n",
    "    for i in tqdm(range(len(aptos_train_csv))):\n",
    "        image_name = aptos_train_csv.iloc[i][\"id_code\"]\n",
    "        image_class = aptos_train_csv.iloc[i][\"diagnosis\"] \n",
    "        image_path = aptos_train_images / f\"{image_name}.png\"\n",
    "        image_file = cv2.imread(image_path)\n",
    "        \n",
    "        processed_images = preprocess_fn(image_file,image_class)\n",
    "        for processing in processed_images:\n",
    "            new_image_name = f\"{image_name}_{processing}\" \n",
    "            curr_processed_image_path = new_image_path / f\"{new_image_name}.png\"\n",
    "            csv_data_list.append({\"img_name\":new_image_name,\"class\":image_class})\n",
    "            cv2.imwrite(curr_processed_image_path,processed_images[processing])\n",
    "            \n",
    "    # Write the labels to csv\n",
    "    csv_data = pd.DataFrame(csv_data_list) \n",
    "    csv_data.to_csv(new_csv_path,index=False)"
   ]
  },
  {
   "cell_type": "markdown",
   "id": "4378a9e1-e943-4ab0-a2da-56270e790381",
   "metadata": {},
   "source": [
    "### Balanced and Resized Dataset "
   ]
  },
  {
   "cell_type": "code",
   "execution_count": 6,
   "id": "79e58023-97c2-468c-bd2a-2f0c99995a32",
   "metadata": {},
   "outputs": [
    {
     "name": "stdout",
     "output_type": "stream",
     "text": [
      "Stage 0 : need 1 augmentation for each image\n",
      "Stage 1 : need 9 augmentation for each image\n",
      "Stage 2 : need 3 augmentation for each image\n",
      "Stage 3 : need 18 augmentation for each image\n",
      "Stage 4 : need 11 augmentation for each image\n"
     ]
    }
   ],
   "source": [
    "augments_needed = dict()\n",
    "\n",
    "max_images = 3600\n",
    "for image_class in range(0,5):\n",
    "    num_images_in_class = len(aptos_train_csv[aptos_train_csv[\"diagnosis\"] == image_class])\n",
    "    augments_needed[image_class] = round((max_images/num_images_in_class)) - 1\n",
    "    print(f\"Stage {image_class} : need {augments_needed[image_class]} augmentation for each image\")"
   ]
  },
  {
   "cell_type": "code",
   "execution_count": 8,
   "id": "8323ea90-fbdd-45a8-903a-be23f5b5f503",
   "metadata": {},
   "outputs": [],
   "source": [
    "albumentation_pipeline_1 = A.Compose([\n",
    "    A.HorizontalFlip(p=0.5),\n",
    "    A.VerticalFlip(p=0.5),\n",
    "    A.Rotate(border_mode=cv2.BORDER_CONSTANT,p=0.7),\n",
    "    A.RandomCropFromBorders(p=0.4),\n",
    "    A.RandomBrightnessContrast(brightness_limit=(-0.05,0.1),contrast_limit=(-0.05,0.5),p=0.3),\n",
    "    A.Resize(224,224,p=1)\n",
    "])\n",
    "\n",
    "def process_balance_resize_augment(image_file, image_class):\n",
    "    image_file = cv2.resize(image_file,(224,224))\n",
    "    processed_images = dict()\n",
    "    num_augments = augments_needed[image_class]\n",
    "    processed_images[\"org\"] = image_file\n",
    "    for i in range(num_augments):\n",
    "        processed_images[str(i)] = albumentation_pipeline_1(image=image_file)[\"image\"]\n",
    "    return processed_images"
   ]
  },
  {
   "cell_type": "code",
   "execution_count": null,
   "id": "efc3cdb8-3f3b-443d-be58-70f166f0a571",
   "metadata": {},
   "outputs": [
    {
     "name": "stderr",
     "output_type": "stream",
     "text": [
      " 19%|█████████████████████████                                                                                                        | 711/3662 [02:48<09:55,  4.96it/s]"
     ]
    }
   ],
   "source": [
    "preprocess_dataset(aptos2019_balanced_resized_path, process_balance_resize_augment)"
   ]
  }
 ],
 "metadata": {
  "kernelspec": {
   "display_name": "Python 3 (ipykernel)",
   "language": "python",
   "name": "python3"
  },
  "language_info": {
   "codemirror_mode": {
    "name": "ipython",
    "version": 3
   },
   "file_extension": ".py",
   "mimetype": "text/x-python",
   "name": "python",
   "nbconvert_exporter": "python",
   "pygments_lexer": "ipython3",
   "version": "3.12.3"
  }
 },
 "nbformat": 4,
 "nbformat_minor": 5
}
